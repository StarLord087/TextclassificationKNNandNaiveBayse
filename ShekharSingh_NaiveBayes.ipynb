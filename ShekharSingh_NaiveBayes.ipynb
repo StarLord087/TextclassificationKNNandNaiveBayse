{
 "cells": [
  {
   "cell_type": "code",
   "execution_count": 2,
   "metadata": {},
   "outputs": [],
   "source": [
    "import numpy as np\n",
    "import nltk\n",
    "import os\n",
    "import string \n",
    "import pickle\n",
    "from nltk.tokenize import word_tokenize\n",
    "from nltk.stem import PorterStemmer \n",
    "from nltk.corpus import stopwords\n",
    "from num2words import num2words\n",
    "from tqdm import tqdm\n",
    "import multiprocessing as mp\n",
    "import matplotlib.pyplot as plt\n",
    "import math\n",
    "import heapq\n",
    "import re\n",
    "import copy\n",
    "import random\n",
    "import pandas as pd\n",
    "from unidecode import unidecode\n",
    "from sklearn.manifold import TSNE"
   ]
  },
  {
   "cell_type": "code",
   "execution_count": 2,
   "metadata": {},
   "outputs": [],
   "source": [
    "ps = PorterStemmer()"
   ]
  },
  {
   "cell_type": "markdown",
   "metadata": {},
   "source": [
    "### Loading Data"
   ]
  },
  {
   "cell_type": "code",
   "execution_count": 3,
   "metadata": {
    "scrolled": true
   },
   "outputs": [
    {
     "name": "stderr",
     "output_type": "stream",
     "text": [
      "100%|█████████████████████████████████████████████████████████████████████████████| 1000/1000 [00:05<00:00, 177.12it/s]\n",
      "100%|█████████████████████████████████████████████████████████████████████████████| 1000/1000 [00:05<00:00, 185.08it/s]\n",
      "100%|█████████████████████████████████████████████████████████████████████████████| 1000/1000 [00:05<00:00, 182.27it/s]\n",
      "100%|█████████████████████████████████████████████████████████████████████████████| 1000/1000 [00:05<00:00, 181.13it/s]\n",
      "100%|█████████████████████████████████████████████████████████████████████████████| 1000/1000 [00:05<00:00, 179.87it/s]\n"
     ]
    }
   ],
   "source": [
    "path = 'C:\\\\Users\\\\shekh\\\\Desktop\\\\Shekhar\\\\IR\\\\Assignment 1\\\\20_newsgroups'\n",
    "folders = []\n",
    "files = []\n",
    "docs = []\n",
    "names = []\n",
    "\n",
    "#loading folders\n",
    "for folder in os.listdir(path):\n",
    "    folders.append(folder)\n",
    "    \n",
    "#print(folders)\n",
    "\n",
    "subset = ['comp.graphics', 'sci.med','talk.politics.misc', 'rec.sport.hockey', 'sci.space']\n",
    "\n",
    "docsdic = {}\n",
    "\n",
    "#loading files from each folder \n",
    "for folder in folders:\n",
    "    if folder in subset:\n",
    "        newpath = path +'\\\\'+folder\n",
    "        for file in tqdm(os.listdir(newpath)):\n",
    "            try:\n",
    "                f = open(newpath+'\\\\'+file,\"r\")\n",
    "                #print(doc)\n",
    "                doc = f.read()\n",
    "                #adding files to list\n",
    "                docs.append(doc)\n",
    "                if folder in docsdic:\n",
    "                    docsdic[folder].append(doc)\n",
    "                else:\n",
    "                    docsdic[folder] = [doc]\n",
    "                names.append((file,folder))\n",
    "                f.close()\n",
    "            except:\n",
    "                pass\n",
    "            \n",
    "      "
   ]
  },
  {
   "cell_type": "code",
   "execution_count": 4,
   "metadata": {
    "scrolled": false
   },
   "outputs": [
    {
     "name": "stdout",
     "output_type": "stream",
     "text": [
      "dict_keys(['comp.graphics', 'rec.sport.hockey', 'sci.med', 'sci.space', 'talk.politics.misc'])\n"
     ]
    }
   ],
   "source": [
    "print(docsdic.keys())"
   ]
  },
  {
   "cell_type": "code",
   "execution_count": 5,
   "metadata": {},
   "outputs": [],
   "source": [
    "listofkeys = list(docsdic.keys())\n",
    "# print(listofkeys)\n",
    "classmapidtoname = {}\n",
    "classmapnametoid = {}\n",
    "for i in range(len(listofkeys)):\n",
    "    classmapidtoname[i] = listofkeys[i]\n",
    "    classmapnametoid[listofkeys[i]] = i\n",
    "\n",
    "# print(classmapidtoname)\n",
    "# print(classmapnametoid)\n",
    "    \n",
    "# print(classmapidtoname.get(1))"
   ]
  },
  {
   "cell_type": "code",
   "execution_count": 6,
   "metadata": {},
   "outputs": [],
   "source": [
    "def listtodict(keys, values):\n",
    "    keys = keys.copy()\n",
    "    values = values.copy()\n",
    "    dic = {}\n",
    "    for key in range(len(keys)): \n",
    "        for value in values: \n",
    "            dic[key] = value\n",
    "            values.remove(value)\n",
    "            break  \n",
    "    return dic"
   ]
  },
  {
   "cell_type": "code",
   "execution_count": 7,
   "metadata": {},
   "outputs": [],
   "source": [
    "def remove_metadata(documents):\n",
    "    pos = documents.index('\\n\\n')\n",
    "    fixed_docs = documents[pos:]\n",
    "    return fixed_docs"
   ]
  },
  {
   "cell_type": "code",
   "execution_count": 8,
   "metadata": {},
   "outputs": [],
   "source": [
    "def apply_proter_stemmer(string):\n",
    "    for i in range(len(string)):\n",
    "        string[i] = ps.stem(string[i])\n",
    "    return string\n",
    "        "
   ]
  },
  {
   "cell_type": "code",
   "execution_count": 9,
   "metadata": {},
   "outputs": [],
   "source": [
    "def remove_stopword(string):\n",
    "    stop_words = set(stopwords.words('english'))\n",
    "    data = [w for w in string if not w in stop_words]\n",
    "    return data"
   ]
  },
  {
   "cell_type": "code",
   "execution_count": 10,
   "metadata": {},
   "outputs": [],
   "source": [
    "def convert_num(string):\n",
    "    for i in range(len(string)):\n",
    "        try:\n",
    "            if(string[i].isnumeric()):\n",
    "                string[i] = num2words(string[i])\n",
    "        except:\n",
    "            continue\n",
    "    return string"
   ]
  },
  {
   "cell_type": "code",
   "execution_count": 11,
   "metadata": {},
   "outputs": [],
   "source": [
    "def remove_nonascii(string):\n",
    "    stripped = (c for c in string if 0 < ord(c) < 127)\n",
    "    return ''.join(stripped)"
   ]
  },
  {
   "cell_type": "code",
   "execution_count": 12,
   "metadata": {},
   "outputs": [],
   "source": [
    "def preprocessing(newdataset):\n",
    "    dataset = newdataset.copy()\n",
    "    for i in tqdm(range(len(dataset))):\n",
    "        dataset[i] = dataset[i].lower()\n",
    "        dataset[i] = remove_nonascii(dataset[i])\n",
    "        dataset[i] = dataset[i].translate(str.maketrans(string.punctuation, ' '*len(string.punctuation)))\n",
    "        dataset[i] = dataset[i].split()\n",
    "        dataset[i] = remove_stopword(dataset[i])\n",
    "        dataset[i] = convert_num(dataset[i])\n",
    "        dataset[i] = apply_proter_stemmer(dataset[i])\n",
    "    return dataset"
   ]
  },
  {
   "cell_type": "code",
   "execution_count": 13,
   "metadata": {},
   "outputs": [],
   "source": [
    "def querypreprocessing(stringdata):\n",
    "    lower = stringdata.lower()\n",
    "    punc = lower.translate(str.maketrans('','',string.punctuation))\n",
    "    spl = punc.split()\n",
    "    removestop = remove_stopword(spl)\n",
    "    removenum = convert_num(removestop)\n",
    "    stemmedquery = apply_proter_stemmer(removenum)\n",
    "    \n",
    "    for word in stemmedquery:\n",
    "        if word not in vocab:\n",
    "            stemmedquery.remove(word)\n",
    "    \n",
    "    return stemmedquery"
   ]
  },
  {
   "cell_type": "code",
   "execution_count": 14,
   "metadata": {},
   "outputs": [],
   "source": [
    "def create_vocabulary(data):\n",
    "    vocab = set()\n",
    "    for doc in data:\n",
    "        for word in doc:\n",
    "            #print(word)\n",
    "            vocab.add(word)\n",
    "    return list(vocab)"
   ]
  },
  {
   "cell_type": "code",
   "execution_count": 15,
   "metadata": {},
   "outputs": [],
   "source": [
    "def traintest_split(Dic, ratio):\n",
    "    D = copy.deepcopy(Dic)\n",
    "    train = {}\n",
    "    test = []\n",
    "    for key in tqdm(D.keys()):\n",
    "        train[key] = random.sample(D[key],int(len(D[key])*(ratio/100)))\n",
    "        for data in D[key]:\n",
    "            if data not in train[key]:\n",
    "                test.append(data)\n",
    "    return train, test"
   ]
  },
  {
   "cell_type": "markdown",
   "metadata": {},
   "source": [
    "### Performing text preprocessing steps in all docs in all classes\n",
    "docs are stored in a dictionary where each ket represents a class, and docs are stored in list of lists"
   ]
  },
  {
   "cell_type": "code",
   "execution_count": 18,
   "metadata": {},
   "outputs": [
    {
     "name": "stderr",
     "output_type": "stream",
     "text": [
      "100%|██████████████████████████████████████████████████████████████████████████████| 1000/1000 [00:20<00:00, 49.60it/s]\n",
      "100%|██████████████████████████████████████████████████████████████████████████████| 1000/1000 [00:32<00:00, 30.88it/s]\n",
      "100%|██████████████████████████████████████████████████████████████████████████████| 1000/1000 [00:19<00:00, 50.67it/s]\n",
      "100%|██████████████████████████████████████████████████████████████████████████████| 1000/1000 [00:22<00:00, 44.16it/s]\n",
      "100%|██████████████████████████████████████████████████████████████████████████████| 1000/1000 [00:23<00:00, 42.29it/s]\n"
     ]
    }
   ],
   "source": [
    "for key in docsdic.keys():\n",
    "    docsdic[key] = preprocessing(docsdic[key])"
   ]
  },
  {
   "cell_type": "code",
   "execution_count": 19,
   "metadata": {},
   "outputs": [],
   "source": [
    "idtoname = listtodict(docs, names)"
   ]
  },
  {
   "cell_type": "code",
   "execution_count": 20,
   "metadata": {},
   "outputs": [],
   "source": [
    "nametoid = {}\n",
    "for i in range(len(names)):\n",
    "    nametoid[names[i][1]] = i"
   ]
  },
  {
   "cell_type": "code",
   "execution_count": 24,
   "metadata": {},
   "outputs": [
    {
     "name": "stdout",
     "output_type": "stream",
     "text": [
      "<class 'set'>\n"
     ]
    }
   ],
   "source": [
    "vocab = []\n",
    "s = set()\n",
    "vm = []\n",
    "for key in docsdic.keys():\n",
    "    \n",
    "    vm.extend(create_vocabulary(docsdic[key]))\n",
    "a = set(vm)\n",
    "v = list(s)\n",
    "print(type(a))"
   ]
  },
  {
   "cell_type": "code",
   "execution_count": 25,
   "metadata": {},
   "outputs": [],
   "source": [
    "def create_dataframe(vocab, data):\n",
    "    df = pd.DataFrame()\n",
    "    df['vocab'] = vocab\n",
    "    \n",
    "    \n",
    "    tfall = []\n",
    "    \n",
    "    for i in tqdm(range(len(data))):\n",
    "        tf1 = []\n",
    "        for word in vocab:\n",
    "            tf1.append(termfreq(data[i],word))\n",
    "        #print(len(tf1))\n",
    "        tfall.append(tf1)\n",
    "    #print(tfall)\n",
    "    \n",
    "    for i in tqdm(range(len(tfall))):\n",
    "        df.insert(i+1, i, tfall[i],allow_duplicates = False)\n",
    "    \n",
    "    df.set_index('vocab', inplace = True)\n",
    "    \n",
    "    return df"
   ]
  },
  {
   "cell_type": "code",
   "execution_count": 26,
   "metadata": {},
   "outputs": [],
   "source": [
    "def get_mutual_information(class_tf_idf_series, class_tf_df_list):\n",
    "    words = class_tf_idf_series.index\n",
    "    Mutual_Information = {}\n",
    "    Mutual_Information_each_class = pd.DataFrame()\n",
    "    \n",
    "    class_tf = pd.concat(class_tf_df_list, axis=1)\n",
    "    class_tf.replace(np.nan, 0, inplace=True)\n",
    "#     display(class_tf[class_tf>0])\n",
    "    \n",
    "    for i, class_tf_1 in tqdm(enumerate(class_tf_df_list)):\n",
    "        in_class_df = class_tf.iloc[:, i*len(class_tf_1.columns):(i+1)*len(class_tf_1.columns)]\n",
    "        not_in_class_df = class_tf.drop(in_class_df.columns, axis=1)\n",
    "        \n",
    "        # number of docs containing term and present in the class\n",
    "        n11 = in_class_df[in_class_df>0].count(axis=1)\n",
    "\n",
    "        # number of docs present in the class which doesn't have the term\n",
    "        n01 = in_class_df[in_class_df == 0].count(axis=1)\n",
    "\n",
    "        # number of docs containing term but does not present in the class\n",
    "        n10 = not_in_class_df[not_in_class_df>0].count(axis=1)\n",
    "\n",
    "        # number of docs doesn't have the term and not present in class\n",
    "        n00 = not_in_class_df[not_in_class_df == 0].count(axis=1)\n",
    "        \n",
    "        n = n11+n01+n10+n00\n",
    "        a = (n11/n)*np.log2((n*n11)/((n10+n11)*(n01+n11)))\n",
    "        b = (n01/n)*np.log2((n*n01)/((n00+n01)*(n01+n11)))\n",
    "        c = (n10/n)*np.log2((n*n10)/((n10+n11)*(n10+n00)))\n",
    "        d = (n00/n)*np.log2((n*n00)/((n01+n00)*(n00+n10)))\n",
    "            \n",
    "        a.replace(np.nan, 0, inplace=True)\n",
    "        b.replace(np.nan, 0, inplace=True)\n",
    "        c.replace(np.nan, 0, inplace=True)\n",
    "        d.replace(np.nan, 0, inplace=True)\n",
    "    \n",
    "        MI = a+b+c+d\n",
    "        Mutual_Information_each_class = pd.concat([Mutual_Information_each_class, MI], axis=1)\n",
    "\n",
    "    Mutual_Information_each_class.columns = class_tf_idf_series.columns\n",
    "        \n",
    "    return Mutual_Information_each_class"
   ]
  },
  {
   "cell_type": "markdown",
   "metadata": {},
   "source": [
    "### Function to Train naive bayes"
   ]
  },
  {
   "cell_type": "code",
   "execution_count": 27,
   "metadata": {},
   "outputs": [],
   "source": [
    "def trainaiveBayes(C):\n",
    "    prior = []\n",
    "    condprob = []\n",
    "    \n",
    "    vocab = []\n",
    "    #create vocabulary\n",
    "    for key in tqdm(C.keys()):\n",
    "        vocab.extend(create_vocabulary(C[key]))\n",
    "    \n",
    "    vocab = list(set(vocab))\n",
    "\n",
    "    N = 0\n",
    "    for c in C.keys():\n",
    "        N += len(C[c])\n",
    "    #print(N)\n",
    "    for c in C.keys():\n",
    "        #print(c)\n",
    "        Nc = len(C[c])\n",
    "        #calculate prior probablitiy of each class\n",
    "        prior.append(Nc/N)\n",
    "        textc = []\n",
    "        for doc in tqdm(C[c]):\n",
    "            #get all the text in class\n",
    "            textc.extend(doc)\n",
    "        Tct = []\n",
    "        for term in tqdm(vocab):\n",
    "            #calculate Tct of each term in the vocab\n",
    "            Tct.append((term,textc.count(term)))\n",
    "        #print(Tct)\n",
    "        prob = []\n",
    "        \n",
    "        for i in tqdm(range(len(vocab))):\n",
    "            #calculate the conditional probability of each term\n",
    "            prob.append((Tct[i][1]+1)/(len(textc)+len(vocab)))\n",
    "        condprob.append(prob)\n",
    "        #return vocabulary of the entire dataset, priop probability of each class and 2D array of conditional probability\n",
    "    return vocab, prior, np.asarray(condprob)"
   ]
  },
  {
   "cell_type": "markdown",
   "metadata": {},
   "source": [
    "### Function to test Naive Bayes"
   ]
  },
  {
   "cell_type": "code",
   "execution_count": 28,
   "metadata": {},
   "outputs": [],
   "source": [
    "def testnaiveBayes(C, nbvocab, priornb, condprobnb, docs):\n",
    "    #revieve the data returned from train naive bayes\n",
    "    vocab = copy.deepcopy(nbvocab)\n",
    "    prior = copy.deepcopy(priornb)\n",
    "    condprob = copy.deepcopy(condprobnb)\n",
    "    \n",
    "    condprob.shape\n",
    "    \n",
    "    classify = []    \n",
    "        \n",
    "    # for each doc in test set calculate the score\n",
    "    for doc in tqdm(docs):\n",
    "        score_list = []\n",
    "        for i in range(len(C)):\n",
    "            #log of prior for class\n",
    "            score = math.log10(prior[i])\n",
    "            for term in doc:\n",
    "                if term in vocab:\n",
    "                    #log of cond probability\n",
    "                    score += math.log10(condprob[i][vocab.index(term)])\n",
    "                else:\n",
    "                    score += 0\n",
    "            score_list.append(score)\n",
    "            score = math.log10(prior[i])\n",
    "        classify.append(score_list.index(max(score_list)))\n",
    "    #assign doc to class which go the maxmium score\n",
    "    result = []\n",
    "    for cls in classify:\n",
    "        result.append(C[cls])\n",
    "    \n",
    "    return result"
   ]
  },
  {
   "cell_type": "code",
   "execution_count": 29,
   "metadata": {},
   "outputs": [],
   "source": [
    "def termdocindex(vocab, docs):\n",
    "    termdoc ={}\n",
    "    for term in tqdm(vocab):\n",
    "        for doc in docs:\n",
    "            if term in doc:\n",
    "                if term in termdoc:\n",
    "                    termdoc[term].add(docs.index(doc))\n",
    "                else:\n",
    "                    termdoc[term] = {docs.index(doc)}\n",
    "    return termdoc"
   ]
  },
  {
   "cell_type": "code",
   "execution_count": 30,
   "metadata": {},
   "outputs": [],
   "source": [
    "def termfreq(data, word):\n",
    "    if data.count(word) == 0:\n",
    "        return 0.0\n",
    "    else:\n",
    "        return 1+(math.log10(data.count(word)))\n",
    "        #return(data.count(word)/len(data))"
   ]
  },
  {
   "cell_type": "code",
   "execution_count": 31,
   "metadata": {},
   "outputs": [],
   "source": [
    "def accuracy(docs, result, data):\n",
    "    correct = 0\n",
    "    \n",
    "    for i,j in zip(docs,result):\n",
    "        m = []\n",
    "        if i in data[j]:\n",
    "            correct += 1\n",
    "            m.append(1)\n",
    "        else:\n",
    "            m.append(0)\n",
    "        \n",
    "    return(correct/len(result))"
   ]
  },
  {
   "cell_type": "code",
   "execution_count": 32,
   "metadata": {},
   "outputs": [],
   "source": [
    "def tfidf_feature_selection(data):\n",
    "    termsinclass = []\n",
    "    wholedic = {}\n",
    "    for key in data.keys():\n",
    "        terms = []\n",
    "        for docs in data[key]:\n",
    "            terms.extend(docs)\n",
    "            wholedic[key] = terms\n",
    "        termsinclass.append(terms)\n",
    "   # print(len(termsinclass))\n",
    "    \n",
    "    vocab = create_vocabulary(termsinclass)\n",
    "    \n",
    "    df = pd.DataFrame(columns = list(data.keys()))\n",
    "    \n",
    "    df['vocab'] = vocab\n",
    "    df.set_index('vocab', inplace = True)\n",
    "    #print(vocab == df.index.values)\n",
    "    #termfreq(wholedic, \"\")\n",
    "    keys = list(wholedic.keys())\n",
    "    #print(keys)\n",
    "    for key in keys:\n",
    "        series = []\n",
    "        for term in tqdm(df.index.values):\n",
    "            series.append(termfreq(wholedic.get(key), term))\n",
    "        df.loc[:,key] = series\n",
    "    \n",
    "    nonzero = np.count_nonzero(df,axis = 1) \n",
    "    #print(nonzero[3])\n",
    "    idf = []\n",
    "    for i in tqdm(range(len(nonzero))):\n",
    "        #print(nonzero[i])\n",
    "        idf.append(1/(1+(math.log10(df.shape[1]/nonzero[i]))))\n",
    "    \n",
    "    df['idf'] = idf\n",
    "    \n",
    "    return df"
   ]
  },
  {
   "cell_type": "code",
   "execution_count": 33,
   "metadata": {},
   "outputs": [],
   "source": [
    "def create_tfidf(df1):\n",
    "    df = df1.copy()\n",
    "    df.iloc[:, 0:-1] = df.iloc[:, 0:-1].mul(df.iloc[:, -1], axis=0)\n",
    "    #print(df)\n",
    "    return df"
   ]
  },
  {
   "cell_type": "code",
   "execution_count": 34,
   "metadata": {},
   "outputs": [],
   "source": [
    "def select_top(dataframe, percent):\n",
    "    featuresdataframe = dataframe.copy()\n",
    "    if 'idf' in featuresdataframe.columns:\n",
    "        featuresdataframe = featuresdataframe.drop(labels = 'idf', axis = 1)\n",
    "    feat = []\n",
    "    for column in featuresdataframe.columns:\n",
    "        feat.append(featuresdataframe[column].sort_values(ascending = False, axis=0).index.tolist())\n",
    "        #print(featuresdataframe[column].sort_values(ascending = False, axis=0).index)\n",
    "    for i in range(len(feat)):\n",
    "        feat[i] = feat[i][:int(len(feat[i])*(percent/100))]\n",
    "    \n",
    "    return feat"
   ]
  },
  {
   "cell_type": "code",
   "execution_count": 35,
   "metadata": {},
   "outputs": [],
   "source": [
    "def reduce_docs(features, dic):\n",
    "    data = copy.deepcopy(dic)\n",
    "#     for key in data.keys():\n",
    "#         print(len(data[key][1]))\n",
    "    \n",
    "    for (i,key) in zip(features, data.keys()):\n",
    "        newlist = []\n",
    "        for j in data[key]:\n",
    "            newlist.append(list(set(j).intersection(set(i))))\n",
    "       # print(len(newlist))\n",
    "        data[key] = newlist\n",
    "                \n",
    "    return data"
   ]
  },
  {
   "cell_type": "code",
   "execution_count": 36,
   "metadata": {},
   "outputs": [],
   "source": [
    "def confusion_matrix(D, result, testdata):\n",
    "    compgraphic = []\n",
    "    hockey = []\n",
    "    scimed = []\n",
    "    space = []\n",
    "    politics = []\n",
    "    \n",
    "    keys = list(D.keys())\n",
    "    #print(keys)\n",
    "    \n",
    "    for i in range(len(result)):\n",
    "        if result[i] =='comp.graphics':\n",
    "            compgraphic.append(i)\n",
    "        elif result[i] == 'sci.med':\n",
    "            scimed.append(i)\n",
    "        elif result[i] == 'talk.politics.misc':\n",
    "            politics.append(i)\n",
    "        elif result[i] == 'sci.space':\n",
    "            space.append(i)\n",
    "        else:\n",
    "            hockey.append(i)\n",
    "    comp = np.zeros(5)\n",
    "    hock = np.zeros(5)\n",
    "    sci = np.zeros(5)\n",
    "    spa = np.zeros(5)\n",
    "    pol = np.zeros(5)\n",
    "    for i in compgraphic:\n",
    "        for j in range(len(keys)):\n",
    "            if testdata[i] in D[keys[j]]:\n",
    "                #print(keys[j])\n",
    "                comp[j] += 1\n",
    "    \n",
    "    for i in hockey:\n",
    "        for j in range(len(keys)):\n",
    "            if testdata[i] in D[keys[j]]:\n",
    "                #print(keys[j])\n",
    "                hock[j] += 1\n",
    "\n",
    "    for i in scimed:\n",
    "        for j in range(len(keys)):\n",
    "            if testdata[i] in D[keys[j]]:\n",
    "                #print(keys[j])\n",
    "                sci[j] += 1\n",
    "                \n",
    "    for i in space:\n",
    "        for j in range(len(keys)):\n",
    "            if testdata[i] in D[keys[j]]:\n",
    "                #print(keys[j])\n",
    "                spa[j] += 1\n",
    "                \n",
    "    for i in politics:\n",
    "        for j in range(len(keys)):\n",
    "            if testdata[i] in D[keys[j]]:\n",
    "                #print(keys[j])\n",
    "                pol[j] += 1\n",
    "\n",
    "    confusion = np.array([comp, hock,sci,spa,pol], np.int32)\n",
    "    \n",
    "    confusiondf = pd.DataFrame(data = confusion, index = keys, columns = ['comp.graphics-pred', 'rec.sport.hockey-pred', 'sci.med-pred', 'sci.space-pred', 'talk.politics.misc-pred'])\n",
    "    \n",
    "    return confusiondf"
   ]
  },
  {
   "cell_type": "code",
   "execution_count": 37,
   "metadata": {},
   "outputs": [
    {
     "name": "stderr",
     "output_type": "stream",
     "text": [
      "100%|██████████████████████████████████████████████████████████████████████████████| 5000/5000 [01:57<00:00, 42.59it/s]\n"
     ]
    }
   ],
   "source": [
    "processedocs = preprocessing(docs)"
   ]
  },
  {
   "cell_type": "code",
   "execution_count": 38,
   "metadata": {},
   "outputs": [],
   "source": [
    "vocabulary = create_vocabulary(processedocs)"
   ]
  },
  {
   "cell_type": "code",
   "execution_count": 42,
   "metadata": {},
   "outputs": [],
   "source": [
    "vocabcomp = create_vocabulary(docsdic['comp.graphics'])\n",
    "vocabhockey = create_vocabulary(docsdic['rec.sport.hockey'])\n",
    "vocabscimed = create_vocabulary(docsdic['sci.med'])\n",
    "vocabscispace = create_vocabulary(docsdic['sci.space'])\n",
    "vocabpolitics = create_vocabulary(docsdic['talk.politics.misc'])"
   ]
  },
  {
   "cell_type": "code",
   "execution_count": 43,
   "metadata": {
    "scrolled": true
   },
   "outputs": [
    {
     "name": "stderr",
     "output_type": "stream",
     "text": [
      "100%|██████████████████████████████████████████████████████████████████████████████| 1000/1000 [01:04<00:00, 15.55it/s]\n",
      "100%|█████████████████████████████████████████████████████████████████████████████| 1000/1000 [00:02<00:00, 450.83it/s]\n",
      "100%|██████████████████████████████████████████████████████████████████████████████| 1000/1000 [00:57<00:00, 17.32it/s]\n",
      "100%|█████████████████████████████████████████████████████████████████████████████| 1000/1000 [00:01<00:00, 522.32it/s]\n",
      "100%|██████████████████████████████████████████████████████████████████████████████| 1000/1000 [01:12<00:00, 13.85it/s]\n",
      "100%|█████████████████████████████████████████████████████████████████████████████| 1000/1000 [00:02<00:00, 389.36it/s]\n",
      "100%|██████████████████████████████████████████████████████████████████████████████| 1000/1000 [01:09<00:00, 14.30it/s]\n",
      "100%|█████████████████████████████████████████████████████████████████████████████| 1000/1000 [00:02<00:00, 440.86it/s]\n",
      "100%|██████████████████████████████████████████████████████████████████████████████| 1000/1000 [01:30<00:00, 11.08it/s]\n",
      "100%|█████████████████████████████████████████████████████████████████████████████| 1000/1000 [00:02<00:00, 386.29it/s]\n"
     ]
    }
   ],
   "source": [
    "dfclasscomp = create_dataframe(vocabcomp,docsdic['comp.graphics'])\n",
    "dfclasshock = create_dataframe(vocabhockey,docsdic['rec.sport.hockey'])\n",
    "dfclassmed = create_dataframe(vocabscimed,docsdic['sci.med'])\n",
    "dfclassspace = create_dataframe(vocabscispace,docsdic['sci.space'])\n",
    "dfclasspol = create_dataframe(vocabpolitics,docsdic['talk.politics.misc'])"
   ]
  },
  {
   "cell_type": "code",
   "execution_count": 44,
   "metadata": {},
   "outputs": [],
   "source": [
    "dflist = []\n",
    "dflist.append(dfclasscomp)\n",
    "dflist.append(dfclasshock)\n",
    "dflist.append(dfclassmed)\n",
    "dflist.append(dfclassspace)\n",
    "dflist.append(dfclasspol)"
   ]
  },
  {
   "cell_type": "markdown",
   "metadata": {},
   "source": [
    "### Spliting data into test and train sets with specified splits"
   ]
  },
  {
   "cell_type": "code",
   "execution_count": 45,
   "metadata": {
    "scrolled": false
   },
   "outputs": [
    {
     "name": "stderr",
     "output_type": "stream",
     "text": [
      "100%|███████████████████████████████████████████████████████████████████████████████████| 5/5 [00:00<00:00, 178.57it/s]\n",
      "100%|███████████████████████████████████████████████████████████████████████████████████| 5/5 [00:00<00:00, 207.95it/s]\n",
      "100%|███████████████████████████████████████████████████████████████████████████████████| 5/5 [00:00<00:00, 208.34it/s]\n"
     ]
    }
   ],
   "source": [
    "train_data80, test_data20 = traintest_split(docsdic,80 )\n",
    "train_data70, test_data30 = traintest_split(docsdic,70 )\n",
    "train_data50, test_data50 = traintest_split(docsdic,50 )"
   ]
  },
  {
   "cell_type": "markdown",
   "metadata": {},
   "source": [
    "### Create tfidf for each class to calculate tfidf features\n",
    "Please be patient this will take sometime"
   ]
  },
  {
   "cell_type": "code",
   "execution_count": 46,
   "metadata": {
    "scrolled": false
   },
   "outputs": [
    {
     "name": "stderr",
     "output_type": "stream",
     "text": [
      "100%|███████████████████████████████████████████████████████████████████████████| 50149/50149 [05:06<00:00, 163.70it/s]\n",
      "100%|███████████████████████████████████████████████████████████████████████████| 50149/50149 [04:51<00:00, 171.85it/s]\n",
      "100%|███████████████████████████████████████████████████████████████████████████| 50149/50149 [05:06<00:00, 163.77it/s]\n",
      "100%|███████████████████████████████████████████████████████████████████████████| 50149/50149 [05:26<00:00, 153.64it/s]\n",
      "100%|███████████████████████████████████████████████████████████████████████████| 50149/50149 [06:43<00:00, 124.29it/s]\n",
      "100%|████████████████████████████████████████████████████████████████████████| 50149/50149 [00:00<00:00, 464362.92it/s]\n"
     ]
    }
   ],
   "source": [
    "tffeaturesdf80 = tfidf_feature_selection(train_data80)"
   ]
  },
  {
   "cell_type": "code",
   "execution_count": 47,
   "metadata": {},
   "outputs": [
    {
     "name": "stderr",
     "output_type": "stream",
     "text": [
      "100%|███████████████████████████████████████████████████████████████████████████| 46710/46710 [06:53<00:00, 112.91it/s]\n",
      "100%|███████████████████████████████████████████████████████████████████████████| 46710/46710 [03:55<00:00, 198.72it/s]\n",
      "100%|███████████████████████████████████████████████████████████████████████████| 46710/46710 [04:12<00:00, 185.29it/s]\n",
      "100%|███████████████████████████████████████████████████████████████████████████| 46710/46710 [04:09<00:00, 187.05it/s]\n",
      "100%|███████████████████████████████████████████████████████████████████████████| 46710/46710 [05:18<00:00, 146.62it/s]\n",
      "100%|████████████████████████████████████████████████████████████████████████| 46710/46710 [00:00<00:00, 467926.01it/s]\n"
     ]
    }
   ],
   "source": [
    "tffeaturesdf70 = tfidf_feature_selection(train_data70)"
   ]
  },
  {
   "cell_type": "code",
   "execution_count": 48,
   "metadata": {
    "scrolled": true
   },
   "outputs": [
    {
     "name": "stderr",
     "output_type": "stream",
     "text": [
      "100%|███████████████████████████████████████████████████████████████████████████| 38143/38143 [02:09<00:00, 295.66it/s]\n",
      "100%|███████████████████████████████████████████████████████████████████████████| 38143/38143 [01:58<00:00, 321.29it/s]\n",
      "100%|███████████████████████████████████████████████████████████████████████████| 38143/38143 [02:05<00:00, 303.87it/s]\n",
      "100%|███████████████████████████████████████████████████████████████████████████| 38143/38143 [02:22<00:00, 268.18it/s]\n",
      "100%|███████████████████████████████████████████████████████████████████████████| 38143/38143 [02:58<00:00, 213.15it/s]\n",
      "100%|████████████████████████████████████████████████████████████████████████| 38143/38143 [00:00<00:00, 490099.98it/s]\n"
     ]
    }
   ],
   "source": [
    "tffeaturesdf50 = tfidf_feature_selection(train_data50)"
   ]
  },
  {
   "cell_type": "code",
   "execution_count": 49,
   "metadata": {},
   "outputs": [],
   "source": [
    "tfidfdataframefeat80 = create_tfidf(tffeaturesdf80)"
   ]
  },
  {
   "cell_type": "code",
   "execution_count": 50,
   "metadata": {},
   "outputs": [],
   "source": [
    "tfidfdataframefeat70 = create_tfidf(tffeaturesdf70)"
   ]
  },
  {
   "cell_type": "code",
   "execution_count": 51,
   "metadata": {},
   "outputs": [],
   "source": [
    "tfidfdataframefeat50 = create_tfidf(tffeaturesdf50)"
   ]
  },
  {
   "cell_type": "markdown",
   "metadata": {},
   "source": [
    "### Selecting top 40% features for each split"
   ]
  },
  {
   "cell_type": "code",
   "execution_count": 52,
   "metadata": {},
   "outputs": [],
   "source": [
    "selected_features80 = select_top(tfidfdataframefeat80, 40)"
   ]
  },
  {
   "cell_type": "code",
   "execution_count": 53,
   "metadata": {},
   "outputs": [],
   "source": [
    "selected_features70 = select_top(tfidfdataframefeat70,40)"
   ]
  },
  {
   "cell_type": "code",
   "execution_count": 54,
   "metadata": {},
   "outputs": [],
   "source": [
    "selected_features50 = select_top(tfidfdataframefeat50, 40)"
   ]
  },
  {
   "cell_type": "markdown",
   "metadata": {},
   "source": [
    "#### remove the terms from the docs that were not selected in feature selection"
   ]
  },
  {
   "cell_type": "code",
   "execution_count": 55,
   "metadata": {
    "scrolled": true
   },
   "outputs": [],
   "source": [
    "reduced_traindata80 = reduce_docs(selected_features80, train_data80)"
   ]
  },
  {
   "cell_type": "code",
   "execution_count": 56,
   "metadata": {},
   "outputs": [],
   "source": [
    "reduced_traindata70 = reduce_docs(selected_features70, train_data70)"
   ]
  },
  {
   "cell_type": "code",
   "execution_count": 57,
   "metadata": {},
   "outputs": [],
   "source": [
    "reduced_traindata50 = reduce_docs(selected_features50, train_data50)"
   ]
  },
  {
   "cell_type": "markdown",
   "metadata": {},
   "source": [
    "### Train Naive Bayes for each spplit of data\n",
    "Please be patient this will take some time"
   ]
  },
  {
   "cell_type": "code",
   "execution_count": 58,
   "metadata": {
    "scrolled": false
   },
   "outputs": [
    {
     "name": "stderr",
     "output_type": "stream",
     "text": [
      "100%|████████████████████████████████████████████████████████████████████████████████████| 5/5 [00:00<00:00, 47.30it/s]\n",
      "100%|████████████████████████████████████████████████████████████████████████████| 800/800 [00:00<00:00, 267302.10it/s]\n",
      "100%|███████████████████████████████████████████████████████████████████████████| 50149/50149 [02:44<00:00, 305.68it/s]\n",
      "100%|███████████████████████████████████████████████████████████████████████| 50149/50149 [00:00<00:00, 1792906.04it/s]\n",
      "100%|████████████████████████████████████████████████████████████████████████████| 800/800 [00:00<00:00, 200456.61it/s]\n",
      "100%|███████████████████████████████████████████████████████████████████████████| 50149/50149 [03:48<00:00, 219.05it/s]\n",
      "100%|███████████████████████████████████████████████████████████████████████| 50149/50149 [00:00<00:00, 1733920.41it/s]\n",
      "100%|████████████████████████████████████████████████████████████████████████████| 800/800 [00:00<00:00, 267387.30it/s]\n",
      "100%|███████████████████████████████████████████████████████████████████████████| 50149/50149 [03:15<00:00, 257.04it/s]\n",
      "100%|███████████████████████████████████████████████████████████████████████| 50149/50149 [00:00<00:00, 1297915.29it/s]\n",
      "100%|█████████████████████████████████████████████████████████████████████████████| 800/800 [00:00<00:00, 10982.62it/s]\n",
      "100%|███████████████████████████████████████████████████████████████████████████| 50149/50149 [03:08<00:00, 266.73it/s]\n",
      "100%|████████████████████████████████████████████████████████████████████████| 50149/50149 [00:00<00:00, 934554.37it/s]\n",
      "100%|█████████████████████████████████████████████████████████████████████████████| 800/800 [00:00<00:00, 10427.76it/s]\n",
      "100%|███████████████████████████████████████████████████████████████████████████| 50149/50149 [03:45<00:00, 222.04it/s]\n",
      "100%|███████████████████████████████████████████████████████████████████████| 50149/50149 [00:00<00:00, 1536282.74it/s]\n"
     ]
    }
   ],
   "source": [
    "nbvocab80, priornb80, condprobnb80 = trainaiveBayes(reduced_traindata80) "
   ]
  },
  {
   "cell_type": "code",
   "execution_count": 59,
   "metadata": {},
   "outputs": [
    {
     "name": "stderr",
     "output_type": "stream",
     "text": [
      "100%|████████████████████████████████████████████████████████████████████████████████████| 5/5 [00:00<00:00, 32.89it/s]\n",
      "100%|████████████████████████████████████████████████████████████████████████████| 700/700 [00:00<00:00, 140244.22it/s]\n",
      "100%|███████████████████████████████████████████████████████████████████████████| 46710/46710 [01:56<00:00, 401.18it/s]\n",
      "100%|███████████████████████████████████████████████████████████████████████| 46710/46710 [00:00<00:00, 1142486.91it/s]\n",
      "100%|████████████████████████████████████████████████████████████████████████████| 700/700 [00:00<00:00, 233852.07it/s]\n",
      "100%|███████████████████████████████████████████████████████████████████████████| 46710/46710 [02:07<00:00, 366.68it/s]\n",
      "100%|███████████████████████████████████████████████████████████████████████| 46710/46710 [00:00<00:00, 1180280.50it/s]\n",
      "100%|████████████████████████████████████████████████████████████████████████████| 700/700 [00:00<00:00, 230746.05it/s]\n",
      "100%|███████████████████████████████████████████████████████████████████████████| 46710/46710 [02:18<00:00, 336.84it/s]\n",
      "100%|███████████████████████████████████████████████████████████████████████| 46710/46710 [00:00<00:00, 1500259.90it/s]\n",
      "100%|████████████████████████████████████████████████████████████████████████████| 700/700 [00:00<00:00, 175441.46it/s]\n",
      "100%|███████████████████████████████████████████████████████████████████████████| 46710/46710 [02:20<00:00, 331.85it/s]\n",
      "100%|███████████████████████████████████████████████████████████████████████| 46710/46710 [00:00<00:00, 1526502.73it/s]\n",
      "100%|████████████████████████████████████████████████████████████████████████████| 700/700 [00:00<00:00, 231200.31it/s]\n",
      "100%|███████████████████████████████████████████████████████████████████████████| 46710/46710 [02:55<00:00, 266.14it/s]\n",
      "100%|███████████████████████████████████████████████████████████████████████| 46710/46710 [00:00<00:00, 1723944.42it/s]\n"
     ]
    }
   ],
   "source": [
    "nbvocab70, priornb70, condprobnb70 = trainaiveBayes(reduced_traindata70) "
   ]
  },
  {
   "cell_type": "code",
   "execution_count": 60,
   "metadata": {},
   "outputs": [
    {
     "name": "stderr",
     "output_type": "stream",
     "text": [
      "100%|████████████████████████████████████████████████████████████████████████████████████| 5/5 [00:00<00:00, 44.46it/s]\n",
      "100%|████████████████████████████████████████████████████████████████████████████| 500/500 [00:00<00:00, 250346.42it/s]\n",
      "100%|███████████████████████████████████████████████████████████████████████████| 38143/38143 [00:54<00:00, 696.28it/s]\n",
      "100%|███████████████████████████████████████████████████████████████████████| 38143/38143 [00:00<00:00, 1077778.85it/s]\n",
      "100%|████████████████████████████████████████████████████████████████████████████| 500/500 [00:00<00:00, 250675.59it/s]\n",
      "100%|███████████████████████████████████████████████████████████████████████████| 38143/38143 [01:01<00:00, 619.63it/s]\n",
      "100%|███████████████████████████████████████████████████████████████████████| 38143/38143 [00:00<00:00, 1298407.97it/s]\n",
      "100%|█████████████████████████████████████████████████████████████████████████████| 500/500 [00:00<00:00, 50126.73it/s]\n",
      "100%|███████████████████████████████████████████████████████████████████████████| 38143/38143 [01:04<00:00, 594.46it/s]\n",
      "100%|███████████████████████████████████████████████████████████████████████| 38143/38143 [00:00<00:00, 1150768.85it/s]\n",
      "100%|████████████████████████████████████████████████████████████████████████████| 500/500 [00:00<00:00, 167090.43it/s]\n",
      "100%|███████████████████████████████████████████████████████████████████████████| 38143/38143 [01:15<00:00, 503.07it/s]\n",
      "100%|███████████████████████████████████████████████████████████████████████| 38143/38143 [00:00<00:00, 1709917.89it/s]\n",
      "100%|████████████████████████████████████████████████████████████████████████████| 500/500 [00:00<00:00, 165848.32it/s]\n",
      "100%|███████████████████████████████████████████████████████████████████████████| 38143/38143 [01:27<00:00, 435.05it/s]\n",
      "100%|███████████████████████████████████████████████████████████████████████| 38143/38143 [00:00<00:00, 1630220.69it/s]\n"
     ]
    }
   ],
   "source": [
    "nbvocab50, priornb50, condprobnb50 = trainaiveBayes(reduced_traindata50) "
   ]
  },
  {
   "cell_type": "markdown",
   "metadata": {},
   "source": [
    "### Test Naive Bayes with with each split of data"
   ]
  },
  {
   "cell_type": "code",
   "execution_count": 62,
   "metadata": {
    "scrolled": true
   },
   "outputs": [
    {
     "name": "stderr",
     "output_type": "stream",
     "text": [
      "100%|████████████████████████████████████████████████████████████████████████████████| 999/999 [38:25<00:00,  2.31s/it]\n"
     ]
    }
   ],
   "source": [
    "resultnb80 = testnaiveBayes(list(reduced_traindata80.keys()), nbvocab80, priornb80,condprobnb80, test_data20)"
   ]
  },
  {
   "cell_type": "code",
   "execution_count": 63,
   "metadata": {
    "scrolled": true
   },
   "outputs": [
    {
     "name": "stderr",
     "output_type": "stream",
     "text": [
      "100%|██████████████████████████████████████████████████████████████████████████████| 1500/1500 [54:45<00:00,  2.19s/it]\n"
     ]
    }
   ],
   "source": [
    "resultnb70 = testnaiveBayes(list(reduced_traindata70.keys()), nbvocab70, priornb70,condprobnb70, test_data30)"
   ]
  },
  {
   "cell_type": "code",
   "execution_count": 64,
   "metadata": {},
   "outputs": [
    {
     "name": "stderr",
     "output_type": "stream",
     "text": [
      "100%|████████████████████████████████████████████████████████████████████████████| 2498/2498 [1:10:42<00:00,  1.70s/it]\n"
     ]
    }
   ],
   "source": [
    "resultnb50 = testnaiveBayes(list(reduced_traindata50.keys()), nbvocab50, priornb50,condprobnb50, test_data50)"
   ]
  },
  {
   "cell_type": "code",
   "execution_count": 65,
   "metadata": {},
   "outputs": [],
   "source": [
    "accu_list = []"
   ]
  },
  {
   "cell_type": "markdown",
   "metadata": {},
   "source": [
    "### Calculate Accuracy for each split of Data with TF-IDF feature selection"
   ]
  },
  {
   "cell_type": "code",
   "execution_count": 67,
   "metadata": {
    "scrolled": false
   },
   "outputs": [],
   "source": [
    "accu_list.append(accuracy(test_data20,resultnb80,docsdic))"
   ]
  },
  {
   "cell_type": "code",
   "execution_count": 68,
   "metadata": {},
   "outputs": [],
   "source": [
    "accu_list.append(accuracy(test_data30,resultnb70,docsdic))"
   ]
  },
  {
   "cell_type": "code",
   "execution_count": 69,
   "metadata": {},
   "outputs": [],
   "source": [
    "accu_list.append(accuracy(test_data50,resultnb50,docsdic))"
   ]
  },
  {
   "cell_type": "code",
   "execution_count": 70,
   "metadata": {},
   "outputs": [
    {
     "name": "stdout",
     "output_type": "stream",
     "text": [
      "Accuracy 80-20:  0.978978978978979\n"
     ]
    },
    {
     "data": {
      "text/html": [
       "<div>\n",
       "<style scoped>\n",
       "    .dataframe tbody tr th:only-of-type {\n",
       "        vertical-align: middle;\n",
       "    }\n",
       "\n",
       "    .dataframe tbody tr th {\n",
       "        vertical-align: top;\n",
       "    }\n",
       "\n",
       "    .dataframe thead th {\n",
       "        text-align: right;\n",
       "    }\n",
       "</style>\n",
       "<table border=\"1\" class=\"dataframe\">\n",
       "  <thead>\n",
       "    <tr style=\"text-align: right;\">\n",
       "      <th></th>\n",
       "      <th>comp.graphics-pred</th>\n",
       "      <th>rec.sport.hockey-pred</th>\n",
       "      <th>sci.med-pred</th>\n",
       "      <th>sci.space-pred</th>\n",
       "      <th>talk.politics.misc-pred</th>\n",
       "    </tr>\n",
       "  </thead>\n",
       "  <tbody>\n",
       "    <tr>\n",
       "      <th>comp.graphics</th>\n",
       "      <td>200</td>\n",
       "      <td>1</td>\n",
       "      <td>4</td>\n",
       "      <td>8</td>\n",
       "      <td>1</td>\n",
       "    </tr>\n",
       "    <tr>\n",
       "      <th>rec.sport.hockey</th>\n",
       "      <td>0</td>\n",
       "      <td>199</td>\n",
       "      <td>2</td>\n",
       "      <td>0</td>\n",
       "      <td>0</td>\n",
       "    </tr>\n",
       "    <tr>\n",
       "      <th>sci.med</th>\n",
       "      <td>0</td>\n",
       "      <td>0</td>\n",
       "      <td>192</td>\n",
       "      <td>0</td>\n",
       "      <td>0</td>\n",
       "    </tr>\n",
       "    <tr>\n",
       "      <th>sci.space</th>\n",
       "      <td>1</td>\n",
       "      <td>0</td>\n",
       "      <td>1</td>\n",
       "      <td>191</td>\n",
       "      <td>3</td>\n",
       "    </tr>\n",
       "    <tr>\n",
       "      <th>talk.politics.misc</th>\n",
       "      <td>0</td>\n",
       "      <td>0</td>\n",
       "      <td>1</td>\n",
       "      <td>2</td>\n",
       "      <td>196</td>\n",
       "    </tr>\n",
       "  </tbody>\n",
       "</table>\n",
       "</div>"
      ],
      "text/plain": [
       "                    comp.graphics-pred  rec.sport.hockey-pred  sci.med-pred  \\\n",
       "comp.graphics                      200                      1             4   \n",
       "rec.sport.hockey                     0                    199             2   \n",
       "sci.med                              0                      0           192   \n",
       "sci.space                            1                      0             1   \n",
       "talk.politics.misc                   0                      0             1   \n",
       "\n",
       "                    sci.space-pred  talk.politics.misc-pred  \n",
       "comp.graphics                    8                        1  \n",
       "rec.sport.hockey                 0                        0  \n",
       "sci.med                          0                        0  \n",
       "sci.space                      191                        3  \n",
       "talk.politics.misc               2                      196  "
      ]
     },
     "execution_count": 70,
     "metadata": {},
     "output_type": "execute_result"
    }
   ],
   "source": [
    "print(\"Accuracy 80-20: \",accu_list[0])\n",
    "confusionmat80 = confusion_matrix(docsdic, resultnb80, test_data20)\n",
    "confusionmat80"
   ]
  },
  {
   "cell_type": "code",
   "execution_count": 71,
   "metadata": {},
   "outputs": [
    {
     "name": "stdout",
     "output_type": "stream",
     "text": [
      "Accuracy 70-30:  0.9786666666666667\n"
     ]
    },
    {
     "data": {
      "text/html": [
       "<div>\n",
       "<style scoped>\n",
       "    .dataframe tbody tr th:only-of-type {\n",
       "        vertical-align: middle;\n",
       "    }\n",
       "\n",
       "    .dataframe tbody tr th {\n",
       "        vertical-align: top;\n",
       "    }\n",
       "\n",
       "    .dataframe thead th {\n",
       "        text-align: right;\n",
       "    }\n",
       "</style>\n",
       "<table border=\"1\" class=\"dataframe\">\n",
       "  <thead>\n",
       "    <tr style=\"text-align: right;\">\n",
       "      <th></th>\n",
       "      <th>comp.graphics-pred</th>\n",
       "      <th>rec.sport.hockey-pred</th>\n",
       "      <th>sci.med-pred</th>\n",
       "      <th>sci.space-pred</th>\n",
       "      <th>talk.politics.misc-pred</th>\n",
       "    </tr>\n",
       "  </thead>\n",
       "  <tbody>\n",
       "    <tr>\n",
       "      <th>comp.graphics</th>\n",
       "      <td>299</td>\n",
       "      <td>3</td>\n",
       "      <td>7</td>\n",
       "      <td>7</td>\n",
       "      <td>1</td>\n",
       "    </tr>\n",
       "    <tr>\n",
       "      <th>rec.sport.hockey</th>\n",
       "      <td>1</td>\n",
       "      <td>297</td>\n",
       "      <td>0</td>\n",
       "      <td>1</td>\n",
       "      <td>1</td>\n",
       "    </tr>\n",
       "    <tr>\n",
       "      <th>sci.med</th>\n",
       "      <td>0</td>\n",
       "      <td>0</td>\n",
       "      <td>287</td>\n",
       "      <td>1</td>\n",
       "      <td>1</td>\n",
       "    </tr>\n",
       "    <tr>\n",
       "      <th>sci.space</th>\n",
       "      <td>3</td>\n",
       "      <td>0</td>\n",
       "      <td>5</td>\n",
       "      <td>289</td>\n",
       "      <td>2</td>\n",
       "    </tr>\n",
       "    <tr>\n",
       "      <th>talk.politics.misc</th>\n",
       "      <td>0</td>\n",
       "      <td>0</td>\n",
       "      <td>2</td>\n",
       "      <td>2</td>\n",
       "      <td>296</td>\n",
       "    </tr>\n",
       "  </tbody>\n",
       "</table>\n",
       "</div>"
      ],
      "text/plain": [
       "                    comp.graphics-pred  rec.sport.hockey-pred  sci.med-pred  \\\n",
       "comp.graphics                      299                      3             7   \n",
       "rec.sport.hockey                     1                    297             0   \n",
       "sci.med                              0                      0           287   \n",
       "sci.space                            3                      0             5   \n",
       "talk.politics.misc                   0                      0             2   \n",
       "\n",
       "                    sci.space-pred  talk.politics.misc-pred  \n",
       "comp.graphics                    7                        1  \n",
       "rec.sport.hockey                 1                        1  \n",
       "sci.med                          1                        1  \n",
       "sci.space                      289                        2  \n",
       "talk.politics.misc               2                      296  "
      ]
     },
     "execution_count": 71,
     "metadata": {},
     "output_type": "execute_result"
    }
   ],
   "source": [
    "print(\"Accuracy 70-30: \",accu_list[1])\n",
    "confusionmat70 = confusion_matrix(docsdic, resultnb70, test_data30)\n",
    "confusionmat70"
   ]
  },
  {
   "cell_type": "code",
   "execution_count": 72,
   "metadata": {
    "scrolled": true
   },
   "outputs": [
    {
     "name": "stdout",
     "output_type": "stream",
     "text": [
      "Accuracy 50-50:  0.9791833466773419\n"
     ]
    },
    {
     "data": {
      "text/html": [
       "<div>\n",
       "<style scoped>\n",
       "    .dataframe tbody tr th:only-of-type {\n",
       "        vertical-align: middle;\n",
       "    }\n",
       "\n",
       "    .dataframe tbody tr th {\n",
       "        vertical-align: top;\n",
       "    }\n",
       "\n",
       "    .dataframe thead th {\n",
       "        text-align: right;\n",
       "    }\n",
       "</style>\n",
       "<table border=\"1\" class=\"dataframe\">\n",
       "  <thead>\n",
       "    <tr style=\"text-align: right;\">\n",
       "      <th></th>\n",
       "      <th>comp.graphics-pred</th>\n",
       "      <th>rec.sport.hockey-pred</th>\n",
       "      <th>sci.med-pred</th>\n",
       "      <th>sci.space-pred</th>\n",
       "      <th>talk.politics.misc-pred</th>\n",
       "    </tr>\n",
       "  </thead>\n",
       "  <tbody>\n",
       "    <tr>\n",
       "      <th>comp.graphics</th>\n",
       "      <td>499</td>\n",
       "      <td>2</td>\n",
       "      <td>16</td>\n",
       "      <td>7</td>\n",
       "      <td>1</td>\n",
       "    </tr>\n",
       "    <tr>\n",
       "      <th>rec.sport.hockey</th>\n",
       "      <td>1</td>\n",
       "      <td>496</td>\n",
       "      <td>2</td>\n",
       "      <td>0</td>\n",
       "      <td>0</td>\n",
       "    </tr>\n",
       "    <tr>\n",
       "      <th>sci.med</th>\n",
       "      <td>0</td>\n",
       "      <td>0</td>\n",
       "      <td>467</td>\n",
       "      <td>2</td>\n",
       "      <td>0</td>\n",
       "    </tr>\n",
       "    <tr>\n",
       "      <th>sci.space</th>\n",
       "      <td>1</td>\n",
       "      <td>0</td>\n",
       "      <td>15</td>\n",
       "      <td>490</td>\n",
       "      <td>5</td>\n",
       "    </tr>\n",
       "    <tr>\n",
       "      <th>talk.politics.misc</th>\n",
       "      <td>2</td>\n",
       "      <td>2</td>\n",
       "      <td>3</td>\n",
       "      <td>1</td>\n",
       "      <td>494</td>\n",
       "    </tr>\n",
       "  </tbody>\n",
       "</table>\n",
       "</div>"
      ],
      "text/plain": [
       "                    comp.graphics-pred  rec.sport.hockey-pred  sci.med-pred  \\\n",
       "comp.graphics                      499                      2            16   \n",
       "rec.sport.hockey                     1                    496             2   \n",
       "sci.med                              0                      0           467   \n",
       "sci.space                            1                      0            15   \n",
       "talk.politics.misc                   2                      2             3   \n",
       "\n",
       "                    sci.space-pred  talk.politics.misc-pred  \n",
       "comp.graphics                    7                        1  \n",
       "rec.sport.hockey                 0                        0  \n",
       "sci.med                          2                        0  \n",
       "sci.space                      490                        5  \n",
       "talk.politics.misc               1                      494  "
      ]
     },
     "execution_count": 72,
     "metadata": {},
     "output_type": "execute_result"
    }
   ],
   "source": [
    "print(\"Accuracy 50-50: \",accu_list[2])\n",
    "confusionmat50 = confusion_matrix(docsdic, resultnb50, test_data50)\n",
    "confusionmat50"
   ]
  },
  {
   "cell_type": "markdown",
   "metadata": {},
   "source": [
    "### Split vs Accuracy TF-IDF"
   ]
  },
  {
   "cell_type": "code",
   "execution_count": 73,
   "metadata": {
    "scrolled": true
   },
   "outputs": [
    {
     "data": {
      "image/png": "[encoded data removed]",
      "text/plain": [
       "<Figure size 432x288 with 1 Axes>"
      ]
     },
     "metadata": {
      "needs_background": "light"
     },
     "output_type": "display_data"
    }
   ],
   "source": [
    "plt.plot(accu_list)\n",
    "plt.title(\"Accuracy\")\n",
    "plt.show()"
   ]
  },
  {
   "cell_type": "code",
   "execution_count": 76,
   "metadata": {},
   "outputs": [],
   "source": [
    "mitffeatures80 = copy.deepcopy(tffeaturesdf80)\n",
    "mitffeatures80 = mitffeatures80.drop(labels = 'idf', axis = 1)\n",
    "mitffeatures70 = copy.deepcopy(tffeaturesdf70)\n",
    "mitffeatures70 = mitffeatures70.drop(labels = 'idf', axis = 1)\n",
    "mitffeatures50 = copy.deepcopy(tffeaturesdf50)\n",
    "mitffeatures50 = mitffeatures50.drop(labels = 'idf', axis = 1)"
   ]
  },
  {
   "cell_type": "code",
   "execution_count": 84,
   "metadata": {},
   "outputs": [],
   "source": [
    "import warnings\n",
    "warnings.filterwarnings(\"ignore\")"
   ]
  },
  {
   "cell_type": "markdown",
   "metadata": {},
   "source": [
    "### Calculate Mututal Information for each split of data\n",
    "thankfully this only takes a few minutes"
   ]
  },
  {
   "cell_type": "code",
   "execution_count": 85,
   "metadata": {
    "scrolled": true
   },
   "outputs": [
    {
     "name": "stderr",
     "output_type": "stream",
     "text": [
      "5it [00:19,  3.97s/it]\n"
     ]
    }
   ],
   "source": [
    "midf80 = get_mutual_information(mitffeatures80,dflist)"
   ]
  },
  {
   "cell_type": "code",
   "execution_count": 86,
   "metadata": {},
   "outputs": [
    {
     "name": "stderr",
     "output_type": "stream",
     "text": [
      "5it [00:15,  3.09s/it]\n"
     ]
    }
   ],
   "source": [
    "midf70 = get_mutual_information(mitffeatures70, dflist)"
   ]
  },
  {
   "cell_type": "code",
   "execution_count": 87,
   "metadata": {},
   "outputs": [
    {
     "name": "stderr",
     "output_type": "stream",
     "text": [
      "5it [00:22,  4.51s/it]\n"
     ]
    }
   ],
   "source": [
    "midf50 = get_mutual_information(mitffeatures50, dflist)"
   ]
  },
  {
   "cell_type": "code",
   "execution_count": 88,
   "metadata": {
    "scrolled": false
   },
   "outputs": [],
   "source": [
    "midf80selected = select_top(midf80, 40)"
   ]
  },
  {
   "cell_type": "code",
   "execution_count": 89,
   "metadata": {},
   "outputs": [],
   "source": [
    "midf70selected = select_top(midf70, 40)"
   ]
  },
  {
   "cell_type": "code",
   "execution_count": 90,
   "metadata": {},
   "outputs": [],
   "source": [
    "midf50selected = select_top(midf50, 40)"
   ]
  },
  {
   "cell_type": "markdown",
   "metadata": {},
   "source": [
    "### Remove the words from the data that were not selected in the MI feature selection"
   ]
  },
  {
   "cell_type": "code",
   "execution_count": 91,
   "metadata": {},
   "outputs": [],
   "source": [
    "midf80reduced_traindata = reduce_docs(midf80selected, train_data80)"
   ]
  },
  {
   "cell_type": "code",
   "execution_count": 92,
   "metadata": {},
   "outputs": [],
   "source": [
    "midf70reduced_traindata = reduce_docs(midf70selected, train_data70)"
   ]
  },
  {
   "cell_type": "code",
   "execution_count": 93,
   "metadata": {},
   "outputs": [],
   "source": [
    "midf50reduced_traindata = reduce_docs(midf50selected, train_data50)"
   ]
  },
  {
   "cell_type": "markdown",
   "metadata": {},
   "source": [
    "### Train Naive Bayes for all Splits"
   ]
  },
  {
   "cell_type": "code",
   "execution_count": 94,
   "metadata": {
    "scrolled": true
   },
   "outputs": [
    {
     "name": "stderr",
     "output_type": "stream",
     "text": [
      "100%|████████████████████████████████████████████████████████████████████████████████████| 5/5 [00:00<00:00, 71.14it/s]\n",
      "100%|████████████████████████████████████████████████████████████████████████████| 800/800 [00:00<00:00, 400841.38it/s]\n",
      "100%|███████████████████████████████████████████████████████████████████████████| 20128/20128 [00:30<00:00, 662.32it/s]\n",
      "100%|███████████████████████████████████████████████████████████████████████| 20128/20128 [00:00<00:00, 1438210.41it/s]\n",
      "100%|████████████████████████████████████████████████████████████████████████████| 800/800 [00:00<00:00, 267451.24it/s]\n",
      "100%|███████████████████████████████████████████████████████████████████████████| 20128/20128 [00:33<00:00, 595.17it/s]\n",
      "100%|████████████████████████████████████████████████████████████████████████████████████| 20128/20128 [00:00<?, ?it/s]\n",
      "100%|████████████████████████████████████████████████████████████████████████████████████████| 800/800 [00:00<?, ?it/s]\n",
      "100%|███████████████████████████████████████████████████████████████████████████| 20128/20128 [00:27<00:00, 720.25it/s]\n",
      "100%|███████████████████████████████████████████████████████████████████████| 20128/20128 [00:00<00:00, 1288900.01it/s]\n",
      "100%|████████████████████████████████████████████████████████████████████████████████████████| 800/800 [00:00<?, ?it/s]\n",
      "100%|███████████████████████████████████████████████████████████████████████████| 20128/20128 [00:37<00:00, 532.79it/s]\n",
      "100%|███████████████████████████████████████████████████████████████████████| 20128/20128 [00:00<00:00, 1292056.18it/s]\n",
      "100%|████████████████████████████████████████████████████████████████████████████████████████| 800/800 [00:00<?, ?it/s]\n",
      "100%|███████████████████████████████████████████████████████████████████████████| 20128/20128 [00:38<00:00, 520.59it/s]\n",
      "100%|███████████████████████████████████████████████████████████████████████| 20128/20128 [00:00<00:00, 1441599.52it/s]\n"
     ]
    }
   ],
   "source": [
    "mivocab80, priormi80, condprobmi80 = trainaiveBayes(midf80reduced_traindata) "
   ]
  },
  {
   "cell_type": "code",
   "execution_count": 95,
   "metadata": {},
   "outputs": [
    {
     "name": "stderr",
     "output_type": "stream",
     "text": [
      "100%|███████████████████████████████████████████████████████████████████████████████████| 5/5 [00:00<00:00, 106.66it/s]\n",
      "100%|████████████████████████████████████████████████████████████████████████████| 700/700 [00:00<00:00, 342912.03it/s]\n",
      "100%|██████████████████████████████████████████████████████████████████████████| 18755/18755 [00:18<00:00, 1023.70it/s]\n",
      "100%|███████████████████████████████████████████████████████████████████████| 18755/18755 [00:00<00:00, 1715348.60it/s]\n",
      "100%|████████████████████████████████████████████████████████████████████████████| 700/700 [00:00<00:00, 351239.72it/s]\n",
      "100%|██████████████████████████████████████████████████████████████████████████| 18755/18755 [00:18<00:00, 1039.42it/s]\n",
      "100%|████████████████████████████████████████████████████████████████████████████████████| 18755/18755 [00:00<?, ?it/s]\n",
      "100%|████████████████████████████████████████████████████████████████████████████████████████| 700/700 [00:00<?, ?it/s]\n",
      "100%|███████████████████████████████████████████████████████████████████████████| 18755/18755 [00:21<00:00, 872.32it/s]\n",
      "100%|███████████████████████████████████████████████████████████████████████| 18755/18755 [00:00<00:00, 1200301.68it/s]\n",
      "100%|████████████████████████████████████████████████████████████████████████████████████████| 700/700 [00:00<?, ?it/s]\n",
      "100%|███████████████████████████████████████████████████████████████████████████| 18755/18755 [00:25<00:00, 733.34it/s]\n",
      "100%|███████████████████████████████████████████████████████████████████████| 18755/18755 [00:00<00:00, 1553154.55it/s]\n",
      "100%|████████████████████████████████████████████████████████████████████████████| 700/700 [00:00<00:00, 345372.64it/s]\n",
      "100%|███████████████████████████████████████████████████████████████████████████| 18755/18755 [00:27<00:00, 680.87it/s]\n",
      "100%|███████████████████████████████████████████████████████████████████████| 18755/18755 [00:00<00:00, 1204086.44it/s]\n"
     ]
    }
   ],
   "source": [
    "mivocab70, priormi70, condprobmi70 = trainaiveBayes(midf70reduced_traindata) "
   ]
  },
  {
   "cell_type": "code",
   "execution_count": 96,
   "metadata": {},
   "outputs": [
    {
     "name": "stderr",
     "output_type": "stream",
     "text": [
      "100%|███████████████████████████████████████████████████████████████████████████████████| 5/5 [00:00<00:00, 117.79it/s]\n",
      "100%|████████████████████████████████████████████████████████████████████████████| 500/500 [00:00<00:00, 250376.31it/s]\n",
      "100%|██████████████████████████████████████████████████████████████████████████| 15338/15338 [00:07<00:00, 2009.53it/s]\n",
      "100%|████████████████████████████████████████████████████████████████████████████████████| 15338/15338 [00:00<?, ?it/s]\n",
      "100%|████████████████████████████████████████████████████████████████████████████████████████| 500/500 [00:00<?, ?it/s]\n",
      "100%|██████████████████████████████████████████████████████████████████████████| 15338/15338 [00:08<00:00, 1851.85it/s]\n",
      "100%|████████████████████████████████████████████████████████████████████████████████████| 15338/15338 [00:00<?, ?it/s]\n",
      "100%|████████████████████████████████████████████████████████████████████████████████████████| 500/500 [00:00<?, ?it/s]\n",
      "100%|██████████████████████████████████████████████████████████████████████████| 15338/15338 [00:08<00:00, 1721.01it/s]\n",
      "100%|████████████████████████████████████████████████████████████████████████████████████| 15338/15338 [00:00<?, ?it/s]\n",
      "100%|█████████████████████████████████████████████████████████████████████████████| 500/500 [00:00<00:00, 32060.66it/s]\n",
      "100%|██████████████████████████████████████████████████████████████████████████| 15338/15338 [00:09<00:00, 1545.26it/s]\n",
      "100%|████████████████████████████████████████████████████████████████████████████████████| 15338/15338 [00:00<?, ?it/s]\n",
      "100%|█████████████████████████████████████████████████████████████████████████████| 500/500 [00:00<00:00, 31865.32it/s]\n",
      "100%|██████████████████████████████████████████████████████████████████████████| 15338/15338 [00:14<00:00, 1087.91it/s]\n",
      "100%|████████████████████████████████████████████████████████████████████████| 15338/15338 [00:00<00:00, 984667.01it/s]\n"
     ]
    }
   ],
   "source": [
    "mivocab50, priormi50, condprobmi50 = trainaiveBayes(midf50reduced_traindata) "
   ]
  },
  {
   "cell_type": "markdown",
   "metadata": {},
   "source": [
    "### Test Naive Bayes for all splits"
   ]
  },
  {
   "cell_type": "code",
   "execution_count": 97,
   "metadata": {
    "scrolled": true
   },
   "outputs": [
    {
     "name": "stderr",
     "output_type": "stream",
     "text": [
      "100%|████████████████████████████████████████████████████████████████████████████████| 999/999 [11:07<00:00,  1.50it/s]\n"
     ]
    }
   ],
   "source": [
    "resultmi80 = testnaiveBayes(list(midf80reduced_traindata.keys()), mivocab80, priormi80,condprobmi80, test_data20)"
   ]
  },
  {
   "cell_type": "code",
   "execution_count": 98,
   "metadata": {},
   "outputs": [
    {
     "name": "stderr",
     "output_type": "stream",
     "text": [
      "100%|██████████████████████████████████████████████████████████████████████████████| 1500/1500 [15:41<00:00,  1.59it/s]\n"
     ]
    }
   ],
   "source": [
    "resultmi70 = testnaiveBayes(list(midf70reduced_traindata.keys()), mivocab70, priormi70,condprobmi70, test_data30)"
   ]
  },
  {
   "cell_type": "code",
   "execution_count": 99,
   "metadata": {},
   "outputs": [
    {
     "name": "stderr",
     "output_type": "stream",
     "text": [
      "100%|██████████████████████████████████████████████████████████████████████████████| 2498/2498 [18:53<00:00,  2.20it/s]\n"
     ]
    }
   ],
   "source": [
    "resultmi50 = testnaiveBayes(list(midf50reduced_traindata.keys()), mivocab50, priormi50,condprobmi50, test_data50)"
   ]
  },
  {
   "cell_type": "code",
   "execution_count": 100,
   "metadata": {},
   "outputs": [],
   "source": [
    "accu_listmi = []"
   ]
  },
  {
   "cell_type": "markdown",
   "metadata": {},
   "source": [
    "### Calculate Accuracy for all splits"
   ]
  },
  {
   "cell_type": "code",
   "execution_count": 101,
   "metadata": {},
   "outputs": [],
   "source": [
    "accu_listmi.append(accuracy(test_data20,resultmi80,docsdic))"
   ]
  },
  {
   "cell_type": "code",
   "execution_count": 102,
   "metadata": {},
   "outputs": [],
   "source": [
    "accu_listmi.append(accuracy(test_data30,resultmi70,docsdic))"
   ]
  },
  {
   "cell_type": "code",
   "execution_count": 103,
   "metadata": {},
   "outputs": [],
   "source": [
    "accu_listmi.append(accuracy(test_data50,resultmi50,docsdic))"
   ]
  },
  {
   "cell_type": "code",
   "execution_count": 104,
   "metadata": {},
   "outputs": [
    {
     "name": "stdout",
     "output_type": "stream",
     "text": [
      "Accuracy 80-20:  0.9579579579579579\n"
     ]
    },
    {
     "data": {
      "text/html": [
       "<div>\n",
       "<style scoped>\n",
       "    .dataframe tbody tr th:only-of-type {\n",
       "        vertical-align: middle;\n",
       "    }\n",
       "\n",
       "    .dataframe tbody tr th {\n",
       "        vertical-align: top;\n",
       "    }\n",
       "\n",
       "    .dataframe thead th {\n",
       "        text-align: right;\n",
       "    }\n",
       "</style>\n",
       "<table border=\"1\" class=\"dataframe\">\n",
       "  <thead>\n",
       "    <tr style=\"text-align: right;\">\n",
       "      <th></th>\n",
       "      <th>comp.graphics-pred</th>\n",
       "      <th>rec.sport.hockey-pred</th>\n",
       "      <th>sci.med-pred</th>\n",
       "      <th>sci.space-pred</th>\n",
       "      <th>talk.politics.misc-pred</th>\n",
       "    </tr>\n",
       "  </thead>\n",
       "  <tbody>\n",
       "    <tr>\n",
       "      <th>comp.graphics</th>\n",
       "      <td>199</td>\n",
       "      <td>1</td>\n",
       "      <td>6</td>\n",
       "      <td>14</td>\n",
       "      <td>3</td>\n",
       "    </tr>\n",
       "    <tr>\n",
       "      <th>rec.sport.hockey</th>\n",
       "      <td>0</td>\n",
       "      <td>199</td>\n",
       "      <td>3</td>\n",
       "      <td>1</td>\n",
       "      <td>1</td>\n",
       "    </tr>\n",
       "    <tr>\n",
       "      <th>sci.med</th>\n",
       "      <td>1</td>\n",
       "      <td>0</td>\n",
       "      <td>187</td>\n",
       "      <td>1</td>\n",
       "      <td>1</td>\n",
       "    </tr>\n",
       "    <tr>\n",
       "      <th>sci.space</th>\n",
       "      <td>1</td>\n",
       "      <td>0</td>\n",
       "      <td>2</td>\n",
       "      <td>182</td>\n",
       "      <td>5</td>\n",
       "    </tr>\n",
       "    <tr>\n",
       "      <th>talk.politics.misc</th>\n",
       "      <td>0</td>\n",
       "      <td>0</td>\n",
       "      <td>2</td>\n",
       "      <td>3</td>\n",
       "      <td>190</td>\n",
       "    </tr>\n",
       "  </tbody>\n",
       "</table>\n",
       "</div>"
      ],
      "text/plain": [
       "                    comp.graphics-pred  rec.sport.hockey-pred  sci.med-pred  \\\n",
       "comp.graphics                      199                      1             6   \n",
       "rec.sport.hockey                     0                    199             3   \n",
       "sci.med                              1                      0           187   \n",
       "sci.space                            1                      0             2   \n",
       "talk.politics.misc                   0                      0             2   \n",
       "\n",
       "                    sci.space-pred  talk.politics.misc-pred  \n",
       "comp.graphics                   14                        3  \n",
       "rec.sport.hockey                 1                        1  \n",
       "sci.med                          1                        1  \n",
       "sci.space                      182                        5  \n",
       "talk.politics.misc               3                      190  "
      ]
     },
     "execution_count": 104,
     "metadata": {},
     "output_type": "execute_result"
    }
   ],
   "source": [
    "print(\"Accuracy 80-20: \",accu_listmi[0])\n",
    "confusion_matrix(docsdic,resultmi80,test_data20)"
   ]
  },
  {
   "cell_type": "code",
   "execution_count": 105,
   "metadata": {},
   "outputs": [
    {
     "name": "stdout",
     "output_type": "stream",
     "text": [
      "Accuracy 70-30:  0.9733333333333334\n"
     ]
    },
    {
     "data": {
      "text/html": [
       "<div>\n",
       "<style scoped>\n",
       "    .dataframe tbody tr th:only-of-type {\n",
       "        vertical-align: middle;\n",
       "    }\n",
       "\n",
       "    .dataframe tbody tr th {\n",
       "        vertical-align: top;\n",
       "    }\n",
       "\n",
       "    .dataframe thead th {\n",
       "        text-align: right;\n",
       "    }\n",
       "</style>\n",
       "<table border=\"1\" class=\"dataframe\">\n",
       "  <thead>\n",
       "    <tr style=\"text-align: right;\">\n",
       "      <th></th>\n",
       "      <th>comp.graphics-pred</th>\n",
       "      <th>rec.sport.hockey-pred</th>\n",
       "      <th>sci.med-pred</th>\n",
       "      <th>sci.space-pred</th>\n",
       "      <th>talk.politics.misc-pred</th>\n",
       "    </tr>\n",
       "  </thead>\n",
       "  <tbody>\n",
       "    <tr>\n",
       "      <th>comp.graphics</th>\n",
       "      <td>301</td>\n",
       "      <td>1</td>\n",
       "      <td>4</td>\n",
       "      <td>14</td>\n",
       "      <td>1</td>\n",
       "    </tr>\n",
       "    <tr>\n",
       "      <th>rec.sport.hockey</th>\n",
       "      <td>0</td>\n",
       "      <td>298</td>\n",
       "      <td>4</td>\n",
       "      <td>1</td>\n",
       "      <td>3</td>\n",
       "    </tr>\n",
       "    <tr>\n",
       "      <th>sci.med</th>\n",
       "      <td>1</td>\n",
       "      <td>0</td>\n",
       "      <td>288</td>\n",
       "      <td>1</td>\n",
       "      <td>1</td>\n",
       "    </tr>\n",
       "    <tr>\n",
       "      <th>sci.space</th>\n",
       "      <td>1</td>\n",
       "      <td>0</td>\n",
       "      <td>3</td>\n",
       "      <td>282</td>\n",
       "      <td>5</td>\n",
       "    </tr>\n",
       "    <tr>\n",
       "      <th>talk.politics.misc</th>\n",
       "      <td>0</td>\n",
       "      <td>1</td>\n",
       "      <td>2</td>\n",
       "      <td>2</td>\n",
       "      <td>291</td>\n",
       "    </tr>\n",
       "  </tbody>\n",
       "</table>\n",
       "</div>"
      ],
      "text/plain": [
       "                    comp.graphics-pred  rec.sport.hockey-pred  sci.med-pred  \\\n",
       "comp.graphics                      301                      1             4   \n",
       "rec.sport.hockey                     0                    298             4   \n",
       "sci.med                              1                      0           288   \n",
       "sci.space                            1                      0             3   \n",
       "talk.politics.misc                   0                      1             2   \n",
       "\n",
       "                    sci.space-pred  talk.politics.misc-pred  \n",
       "comp.graphics                   14                        1  \n",
       "rec.sport.hockey                 1                        3  \n",
       "sci.med                          1                        1  \n",
       "sci.space                      282                        5  \n",
       "talk.politics.misc               2                      291  "
      ]
     },
     "execution_count": 105,
     "metadata": {},
     "output_type": "execute_result"
    }
   ],
   "source": [
    "print(\"Accuracy 70-30: \",accu_listmi[1])\n",
    "confusion_matrix(docsdic,resultmi70,test_data30)"
   ]
  },
  {
   "cell_type": "code",
   "execution_count": 106,
   "metadata": {},
   "outputs": [
    {
     "name": "stdout",
     "output_type": "stream",
     "text": [
      "Accuracy 50-50:  0.9627702161729383\n"
     ]
    },
    {
     "data": {
      "text/html": [
       "<div>\n",
       "<style scoped>\n",
       "    .dataframe tbody tr th:only-of-type {\n",
       "        vertical-align: middle;\n",
       "    }\n",
       "\n",
       "    .dataframe tbody tr th {\n",
       "        vertical-align: top;\n",
       "    }\n",
       "\n",
       "    .dataframe thead th {\n",
       "        text-align: right;\n",
       "    }\n",
       "</style>\n",
       "<table border=\"1\" class=\"dataframe\">\n",
       "  <thead>\n",
       "    <tr style=\"text-align: right;\">\n",
       "      <th></th>\n",
       "      <th>comp.graphics-pred</th>\n",
       "      <th>rec.sport.hockey-pred</th>\n",
       "      <th>sci.med-pred</th>\n",
       "      <th>sci.space-pred</th>\n",
       "      <th>talk.politics.misc-pred</th>\n",
       "    </tr>\n",
       "  </thead>\n",
       "  <tbody>\n",
       "    <tr>\n",
       "      <th>comp.graphics</th>\n",
       "      <td>501</td>\n",
       "      <td>2</td>\n",
       "      <td>15</td>\n",
       "      <td>22</td>\n",
       "      <td>3</td>\n",
       "    </tr>\n",
       "    <tr>\n",
       "      <th>rec.sport.hockey</th>\n",
       "      <td>0</td>\n",
       "      <td>495</td>\n",
       "      <td>8</td>\n",
       "      <td>4</td>\n",
       "      <td>3</td>\n",
       "    </tr>\n",
       "    <tr>\n",
       "      <th>sci.med</th>\n",
       "      <td>0</td>\n",
       "      <td>1</td>\n",
       "      <td>464</td>\n",
       "      <td>10</td>\n",
       "      <td>2</td>\n",
       "    </tr>\n",
       "    <tr>\n",
       "      <th>sci.space</th>\n",
       "      <td>2</td>\n",
       "      <td>1</td>\n",
       "      <td>9</td>\n",
       "      <td>458</td>\n",
       "      <td>5</td>\n",
       "    </tr>\n",
       "    <tr>\n",
       "      <th>talk.politics.misc</th>\n",
       "      <td>0</td>\n",
       "      <td>1</td>\n",
       "      <td>7</td>\n",
       "      <td>6</td>\n",
       "      <td>487</td>\n",
       "    </tr>\n",
       "  </tbody>\n",
       "</table>\n",
       "</div>"
      ],
      "text/plain": [
       "                    comp.graphics-pred  rec.sport.hockey-pred  sci.med-pred  \\\n",
       "comp.graphics                      501                      2            15   \n",
       "rec.sport.hockey                     0                    495             8   \n",
       "sci.med                              0                      1           464   \n",
       "sci.space                            2                      1             9   \n",
       "talk.politics.misc                   0                      1             7   \n",
       "\n",
       "                    sci.space-pred  talk.politics.misc-pred  \n",
       "comp.graphics                   22                        3  \n",
       "rec.sport.hockey                 4                        3  \n",
       "sci.med                         10                        2  \n",
       "sci.space                      458                        5  \n",
       "talk.politics.misc               6                      487  "
      ]
     },
     "execution_count": 106,
     "metadata": {},
     "output_type": "execute_result"
    }
   ],
   "source": [
    "print(\"Accuracy 50-50: \",accu_listmi[2])\n",
    "confusion_matrix(docsdic,resultmi50,test_data50)"
   ]
  },
  {
   "cell_type": "markdown",
   "metadata": {},
   "source": [
    "### Split vs Accuracy MI"
   ]
  },
  {
   "cell_type": "code",
   "execution_count": 107,
   "metadata": {
    "scrolled": true
   },
   "outputs": [
    {
     "data": {
      "image/png": "[encoded data removed]",
      "text/plain": [
       "<Figure size 432x288 with 1 Axes>"
      ]
     },
     "metadata": {
      "needs_background": "light"
     },
     "output_type": "display_data"
    }
   ],
   "source": [
    "plt.plot(accu_listmi)\n",
    "plt.title(\"Accuracy\")\n",
    "plt.show()"
   ]
  }
 ],
 "metadata": {
  "kernelspec": {
   "display_name": "Python 3",
   "language": "python",
   "name": "python3"
  },
  "language_info": {
   "codemirror_mode": {
    "name": "ipython",
    "version": 3
   },
   "file_extension": ".py",
   "mimetype": "text/x-python",
   "name": "python",
   "nbconvert_exporter": "python",
   "pygments_lexer": "ipython3",
   "version": "3.6.5"
  }
 },
 "nbformat": 4,
 "nbformat_minor": 2
}
